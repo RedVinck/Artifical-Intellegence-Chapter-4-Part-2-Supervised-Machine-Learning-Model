{
 "cells": [
  {
   "cell_type": "code",
   "execution_count": null,
   "metadata": {},
   "outputs": [],
   "source": [
    "import pandas as pd\n",
    "\n",
    "# Read data\n",
    "#data = pd.read_excel('data.xlsx', sheet_name='PS19A_PERSON__SmplR10K', keep_default_na=False)\n",
    "data = pd.read_csv('data_small.tsv.win.utf8.txt', sep='\\t', keep_default_na=False)\n",
    "\n",
    "# Extract addresses\n",
    "addresses = data['person_address']\n",
    "del data\n",
    "\n",
    "addressCount = len(addresses)"
   ]
  },
  {
   "cell_type": "code",
   "execution_count": null,
   "metadata": {},
   "outputs": [],
   "source": [
    "import multiprocessing\n",
    "import math\n",
    "\n",
    "from calculateDistance import calculateDistance\n",
    "\n",
    "# Number of processes to create\n",
    "processCount = multiprocessing.cpu_count() - 1\n",
    "\n",
    "# Amount of addresses to use per process\n",
    "threadAddressCount = int(math.ceil(float(addressCount) / processCount))\n",
    "\n",
    "# Create a manager that stores a dict to share between processes\n",
    "manager = multiprocessing.Manager()\n",
    "data = manager.dict()\n",
    "\n",
    "# Create n processes\n",
    "if __name__ == '__main__':\n",
    "    for n in range(processCount):\n",
    "        t = multiprocessing.Process(target=calculateDistance, args=(n, threadAddressCount, addressCount, addresses, data))\n",
    "        t.start()\n",
    "        t.join()\n",
    "\n",
    "del processCount"
   ]
  },
  {
   "cell_type": "code",
   "execution_count": null,
   "metadata": {},
   "outputs": [],
   "source": [
    "from pprint import pprint\n",
    "\n",
    "pprint(list(data.items())[:8])"
   ]
  }
 ],
 "metadata": {
  "interpreter": {
   "hash": "9ff3b1395cfe42e1a5d7dfaefaa82896947ad0d14f060d15eb83ace737e96c0b"
  },
  "kernelspec": {
   "display_name": "Python 3.8.8 64-bit ('base': conda)",
   "language": "python",
   "name": "python3"
  },
  "language_info": {
   "codemirror_mode": {
    "name": "ipython",
    "version": 3
   },
   "file_extension": ".py",
   "mimetype": "text/x-python",
   "name": "python",
   "nbconvert_exporter": "python",
   "pygments_lexer": "ipython3",
   "version": "3.9.7"
  }
 },
 "nbformat": 4,
 "nbformat_minor": 4
}
