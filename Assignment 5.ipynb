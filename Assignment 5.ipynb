{
 "cells": [
  {
   "cell_type": "code",
   "execution_count": null,
   "metadata": {},
   "outputs": [],
   "source": [
    "import pandas as pd\n",
    "\n",
    "# Read data\n",
    "#data = pd.read_excel('data.xlsx', sheet_name='PS19A_PERSON__SmplR10K', keep_default_na=False)\n",
    "data = pd.read_csv('data_small.tsv.win.utf8.txt', sep='\\t', keep_default_na=False)\n",
    "\n",
    "# Extract addresses\n",
    "addresses = data['person_address']\n",
    "del data\n",
    "\n",
    "addressCount = len(addresses)\n",
    "\n",
    "data = {}\n"
   ]
  },
  {
   "cell_type": "code",
   "execution_count": null,
   "metadata": {},
   "outputs": [],
   "source": [
    "import Levenshtein as lev\n",
    "import multiprocessing\n",
    "import threading\n",
    "import math\n",
    "\n",
    "# Number of threads to create\n",
    "threadCount = multiprocessing.cpu_count()\n",
    "\n",
    "# Amount of addresses to use per thread\n",
    "threadAddressCount = int(math.ceil(float(addressCount) / threadCount))\n",
    "\n",
    "class CalculateDistanceThread(threading.Thread):\n",
    "    def __init__(self, threadID):\n",
    "        threading.Thread.__init__(self)\n",
    "        self.threadID = threadID\n",
    "    def run(self):\n",
    "        start = threadAddressCount * self.threadID\n",
    "        for n in range(threadAddressCount):\n",
    "            if (start + n < addressCount):\n",
    "                for x in range(addressCount):\n",
    "                    ratio = lev.ratio(addresses[n].lower(), addresses[x].lower())\n",
    "                    if (ratio > 0.6):\n",
    "                        data[(n, x)] = ratio\n",
    "\n",
    "# Create a list with n threads\n",
    "threads = []\n",
    "for n in range(threadCount):\n",
    "    thread = CalculateDistanceThread(n)\n",
    "    threads.append(thread)\n",
    "\n",
    "# Start all threads\n",
    "for thread in threads:\n",
    "    thread.start()\n",
    "\n",
    "# Wait for all threads to finish\n",
    "for thread in threads:\n",
    "    thread.join()"
   ]
  },
  {
   "cell_type": "code",
   "execution_count": null,
   "metadata": {},
   "outputs": [],
   "source": [
    "from pprint import pprint\n",
    "\n",
    "pprint(list(data.items())[:8])"
   ]
  }
 ],
 "metadata": {
  "interpreter": {
   "hash": "9ff3b1395cfe42e1a5d7dfaefaa82896947ad0d14f060d15eb83ace737e96c0b"
  },
  "kernelspec": {
   "display_name": "Python 3.8.8 64-bit ('base': conda)",
   "language": "python",
   "name": "python3"
  },
  "language_info": {
   "codemirror_mode": {
    "name": "ipython",
    "version": 3
   },
   "file_extension": ".py",
   "mimetype": "text/x-python",
   "name": "python",
   "nbconvert_exporter": "python",
   "pygments_lexer": "ipython3",
   "version": "3.9.7"
  }
 },
 "nbformat": 4,
 "nbformat_minor": 4
}
