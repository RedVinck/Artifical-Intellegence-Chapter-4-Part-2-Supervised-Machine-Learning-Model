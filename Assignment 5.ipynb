{
 "cells": [
  {
   "cell_type": "markdown",
   "metadata": {},
   "source": [
    "# Import data"
   ]
  },
  {
   "cell_type": "code",
   "execution_count": 4,
   "metadata": {},
   "outputs": [],
   "source": [
    "import pandas as pd\n",
    "\n",
    "# Read data\n",
    "#data = pd.read_excel('data.xlsx', sheet_name='PS19A_PERSON__SmplR10K', keep_default_na=False)\n",
    "data = pd.read_csv('data_small.tsv.win.utf8.txt', sep='\\t', keep_default_na=False)\n",
    "\n",
    "# Extract addresses\n",
    "addresses = data['person_address']\n",
    "\n",
    "# Remove old data to free memory\n",
    "del data\n",
    "\n",
    "addressCount = len(addresses)\n",
    "\n",
    "# data is a dictionary with every key a tupel of 2 indexes of addresses and value the Levenshtein ratio\n",
    "# For example (0, 1): 0.5 means that address with index 0 and address with index 1 have a Levenshtein ratio of 0.5\n",
    "data = {}"
   ]
  },
  {
   "cell_type": "markdown",
   "metadata": {},
   "source": [
    "# Calculate all Levenshtein ratios and store the ones above a threshold (0.5)\n",
    "\n",
    "Note that addresses will not be compared with themselves since this will always result in 1, this means the data will not include data like (1,1): 1 or (2,2): 1 since this is useless.\n",
    "\n",
    "It will also not include reverse comparisons. For example, it will include (1, 0): n but not (1, 0): n AND (0, 1): n since these will have the same value."
   ]
  },
  {
   "cell_type": "code",
   "execution_count": 5,
   "metadata": {},
   "outputs": [],
   "source": [
    "import Levenshtein as lev\n",
    "import multiprocessing\n",
    "import threading\n",
    "import math\n",
    "\n",
    "# Number of threads to create\n",
    "threadCount = multiprocessing.cpu_count() - 1\n",
    "\n",
    "# Amount of addresses to use per thread\n",
    "threadAddressCount = int(math.ceil(float(addressCount) / threadCount))\n",
    "\n",
    "class CalculateDistanceThread(threading.Thread):\n",
    "    def __init__(self, threadID):\n",
    "        threading.Thread.__init__(self)\n",
    "        self.threadID = threadID\n",
    "    def run(self):\n",
    "        # Calculate the start index\n",
    "        start = threadAddressCount * self.threadID\n",
    "        for n in range(threadAddressCount):\n",
    "            if (start + n < addressCount):\n",
    "                # Calculate and store Levenshtein ratios\n",
    "                # above threshold 0.5\n",
    "                for x in range(start + n):\n",
    "                    ratio = lev.ratio(addresses[start + n].lower(), addresses[x].lower())\n",
    "                    if (ratio > 0.5):\n",
    "                        data[(start + n, x)] = ratio\n",
    "\n",
    "# Create n threads\n",
    "for n in range(threadCount):\n",
    "    t = CalculateDistanceThread(n)\n",
    "    t.start()\n",
    "    t.join()\n",
    "\n",
    "del threadCount"
   ]
  },
  {
   "cell_type": "markdown",
   "metadata": {},
   "source": [
    "# Pretty print the first 8 ratios above the threshold (0.5)"
   ]
  },
  {
   "cell_type": "code",
   "execution_count": 6,
   "metadata": {},
   "outputs": [
    {
     "name": "stdout",
     "output_type": "stream",
     "text": [
      "[((6, 1), 0.5423728813559322),\n",
      " ((10, 4), 0.5373134328358209),\n",
      " ((11, 4), 0.5230769230769231),\n",
      " ((11, 6), 0.5714285714285715),\n",
      " ((11, 7), 0.5230769230769231),\n",
      " ((11, 10), 0.5161290322580645),\n",
      " ((14, 0), 0.5538461538461539),\n",
      " ((14, 1), 0.576271186440678)]\n"
     ]
    }
   ],
   "source": [
    "from pprint import pprint\n",
    "\n",
    "pprint(list(data.items())[:8])"
   ]
  }
 ],
 "metadata": {
  "interpreter": {
   "hash": "9ff3b1395cfe42e1a5d7dfaefaa82896947ad0d14f060d15eb83ace737e96c0b"
  },
  "kernelspec": {
   "display_name": "Python 3.8.8 64-bit ('base': conda)",
   "language": "python",
   "name": "python3"
  },
  "language_info": {
   "codemirror_mode": {
    "name": "ipython",
    "version": 3
   },
   "file_extension": ".py",
   "mimetype": "text/x-python",
   "name": "python",
   "nbconvert_exporter": "python",
   "pygments_lexer": "ipython3",
   "version": "3.9.7"
  }
 },
 "nbformat": 4,
 "nbformat_minor": 4
}
