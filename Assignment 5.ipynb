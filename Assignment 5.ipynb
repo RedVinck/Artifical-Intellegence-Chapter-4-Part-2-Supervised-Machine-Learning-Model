{
 "cells": [
  {
   "cell_type": "code",
   "execution_count": 10,
   "metadata": {},
   "outputs": [],
   "source": [
    "import pandas as pd\n",
    "\n",
    "# Read data\n",
    "data = pd.read_excel('data.xlsx', sheet_name='PS19A_PERSON__SmplR10K', keep_default_na=False)\n",
    "#data = pd.read_csv('data_small.tsv.win.utf8.txt', sep='\\t', keep_default_na=False)\n",
    "\n",
    "# Extract addresses\n",
    "addresses = data['person_address']\n",
    "del data\n",
    "\n",
    "addressCount = len(addresses)\n",
    "\n",
    "data = {}"
   ]
  },
  {
   "cell_type": "code",
   "execution_count": 11,
   "metadata": {},
   "outputs": [],
   "source": [
    "import Levenshtein as lev\n",
    "import multiprocessing\n",
    "import threading\n",
    "import math\n",
    "\n",
    "# Number of threads to create\n",
    "threadCount = multiprocessing.cpu_count()\n",
    "\n",
    "# Amount of addresses to use per thread\n",
    "threadAddressCount = int(math.ceil(float(addressCount) / threadCount))\n",
    "\n",
    "class CalculateDistanceThread(threading.Thread):\n",
    "    def __init__(self, threadID):\n",
    "        threading.Thread.__init__(self)\n",
    "        self.threadID = threadID\n",
    "    def run(self):\n",
    "        start = threadAddressCount * self.threadID\n",
    "        for n in range(threadAddressCount):\n",
    "            if (start + n < addressCount):\n",
    "                for x in range(addressCount):\n",
    "                    ratio = lev.ratio(addresses[start + n].lower(), addresses[x].lower())\n",
    "                    if (ratio > 0.6):\n",
    "                        data[(n, x)] = ratio\n",
    "\n",
    "# Create n threads\n",
    "for n in range(threadCount):\n",
    "    t = CalculateDistanceThread(n)\n",
    "    t.start()\n",
    "    t.join()\n",
    "\n",
    "del threadCount"
   ]
  },
  {
   "cell_type": "code",
   "execution_count": 12,
   "metadata": {},
   "outputs": [
    {
     "name": "stdout",
     "output_type": "stream",
     "text": [
      "[((0, 0), 1.0),\n",
      " ((1, 1), 1.0),\n",
      " ((1, 131), 0.6015037593984962),\n",
      " ((1, 531), 0.7972972972972973),\n",
      " ((1, 849), 0.7853881278538813),\n",
      " ((1, 879), 0.7809523809523811),\n",
      " ((2, 2), 1.0),\n",
      " ((3, 3), 1.0)]\n"
     ]
    }
   ],
   "source": [
    "from pprint import pprint\n",
    "\n",
    "pprint(list(data.items())[:8])"
   ]
  }
 ],
 "metadata": {
  "interpreter": {
   "hash": "9ff3b1395cfe42e1a5d7dfaefaa82896947ad0d14f060d15eb83ace737e96c0b"
  },
  "kernelspec": {
   "display_name": "Python 3.8.8 64-bit ('base': conda)",
   "language": "python",
   "name": "python3"
  },
  "language_info": {
   "codemirror_mode": {
    "name": "ipython",
    "version": 3
   },
   "file_extension": ".py",
   "mimetype": "text/x-python",
   "name": "python",
   "nbconvert_exporter": "python",
   "pygments_lexer": "ipython3",
   "version": "3.9.7"
  }
 },
 "nbformat": 4,
 "nbformat_minor": 4
}
