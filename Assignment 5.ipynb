{
 "cells": [
  {
   "cell_type": "code",
   "execution_count": null,
   "metadata": {},
   "outputs": [],
   "source": [
    "import pandas as pd\n",
    "\n",
    "# Read and shape data\n",
    "data = pd.read_excel('data.xlsx', sheet_name='PS19A_PERSON__SmplR10K', keep_default_na=False)\n",
    "data.shape\n",
    "\n",
    "# Add headers to data frame\n",
    "addresses = data['person_address']\n",
    "fullFrame = pd.DataFrame(data, columns=addresses, index=addresses)"
   ]
  },
  {
   "cell_type": "code",
   "execution_count": null,
   "metadata": {},
   "outputs": [],
   "source": [
    "import Levenshtein as lev\n",
    "import multiprocessing\n",
    "import threading\n",
    "import math\n",
    "\n",
    "# Number of threads to create\n",
    "threadCount = multiprocessing.cpu_count();\n",
    "\n",
    "# Use full data frame\n",
    "data = fullFrame\n",
    "# Use partial data frame of n addresses\n",
    "#n = 128\n",
    "#data = fullFrame.iloc[:n, :n]\n",
    "\n",
    "# Amount of addresses to use per thread\n",
    "threadAddressCount = int(math.ceil(float(len(data)) / threadCount));\n",
    "\n",
    "class CalculateDistanceThread(threading.Thread):\n",
    "    def __init__(self, threadID):\n",
    "        threading.Thread.__init__(self)\n",
    "        self.threadID = threadID\n",
    "    def run(self):\n",
    "        start = threadAddressCount * self.threadID\n",
    "        for n in range(threadAddressCount):\n",
    "            if (start + n < len(data)):\n",
    "                for x in data.index:\n",
    "                    ratio = lev.ratio(data.index[start + n].lower(), x.lower())\n",
    "                    fullFrame.at[data.index[start + n], x] = ratio\n",
    "\n",
    "# Create a list with n threads\n",
    "threads = []\n",
    "for n in range(threadCount):\n",
    "    thread = CalculateDistanceThread(n)\n",
    "    threads.append(thread)\n",
    "\n",
    "# Start all threads\n",
    "for thread in threads:\n",
    "    thread.start();\n",
    "\n",
    "# Wait for all threads to finish\n",
    "for thread in threads:\n",
    "    thread.join();"
   ]
  },
  {
   "cell_type": "code",
   "execution_count": null,
   "metadata": {},
   "outputs": [],
   "source": [
    "fullFrame.head(8)"
   ]
  }
 ],
 "metadata": {
  "interpreter": {
   "hash": "9ff3b1395cfe42e1a5d7dfaefaa82896947ad0d14f060d15eb83ace737e96c0b"
  },
  "kernelspec": {
   "display_name": "Python 3.8.8 64-bit ('base': conda)",
   "language": "python",
   "name": "python3"
  },
  "language_info": {
   "codemirror_mode": {
    "name": "ipython",
    "version": 3
   },
   "file_extension": ".py",
   "mimetype": "text/x-python",
   "name": "python",
   "nbconvert_exporter": "python",
   "pygments_lexer": "ipython3",
   "version": "3.9.7"
  }
 },
 "nbformat": 4,
 "nbformat_minor": 4
}
